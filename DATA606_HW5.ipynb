{
 "cells": [
  {
   "cell_type": "markdown",
   "metadata": {
    "id": "ZwqJVC-hp4Nr"
   },
   "source": [
    "## Grading: 2 points for each question"
   ]
  },
  {
   "cell_type": "code",
   "execution_count": 1,
   "metadata": {
    "id": "cwA_IhbepyCI"
   },
   "outputs": [],
   "source": [
    "## Question 1\n",
    "\n",
    "# What is the following code doing and what is its time complexity ?\n",
    "\n",
    "def doSomething(n):\n",
    "  j=1\n",
    "  while(j*j <= n):\n",
    "    if j*j == n:\n",
    "      return j\n",
    "    else:\n",
    "      j+=1\n",
    "  return -1\n"
   ]
  },
  {
   "cell_type": "markdown",
   "metadata": {},
   "source": [
    "##### Solution:\n",
    "\n",
    "This code aims to determine if a given input number n is a perfect square. If n is a perfect square, the code returns the square root of n, which is stored in the variable j. If n is not a perfect square, the function returns -1.\n",
    "\n",
    "The time complexity of this code is O(sqrt(n)). This is because the while loop runs for all values of j, starting from 1 and iterating upwards until j squared exceeds n. This iteration continues until j reaches the square root of n. Therefore, the time complexity of the loop is proportional to the square root of n. As there is only one loop in the function, the final time complexity of the function is O(sqrt(n))."
   ]
  },
  {
   "cell_type": "code",
   "execution_count": 2,
   "metadata": {
    "id": "bYq3ZY83xTPP"
   },
   "outputs": [],
   "source": [
    "## Question 2\n",
    "\n",
    "# What is the following code doing and what is its time complexity ?\n",
    "\n",
    "def doSomething(n,m):\n",
    "  if m <= 0:\n",
    "    return -1\n",
    "  j = n // m\n",
    "  return n-j*m\n"
   ]
  },
  {
   "cell_type": "markdown",
   "metadata": {},
   "source": [
    "##### Solution:\n",
    "\n",
    "This code functions to determine the remainder of n when divided by m, utilizing the floor division operator // and the subtraction operator -. If m is zero or a negative value, the function returns -1. \n",
    "\n",
    "The time complexity of this code is constant, O(1), as it performs a fixed number of calculations that do not depend on the size of n and m. It only performs one division operation and one subtraction operation, both of which require constant time.\n"
   ]
  },
  {
   "cell_type": "code",
   "execution_count": 3,
   "metadata": {
    "id": "OqORpYl1Q-hV"
   },
   "outputs": [],
   "source": [
    "## Question 3\n",
    "\n",
    "# What is the following code doing and what is its time complexity ?\n",
    "\n",
    "def doSomething(n):\n",
    "  j=0\n",
    "  while(n>0):\n",
    "    j+=n%10\n",
    "    n//=10\n",
    "  return j\n",
    "\n"
   ]
  },
  {
   "cell_type": "markdown",
   "metadata": {},
   "source": [
    "##### Solution:\n",
    "\n",
    "This code calculates the sum of individual digits of an input integer n. It achieves this by iterating over each digit of n and adding it to a running total j. After adding the digit, it removes the digit from the input integer n by integer division with 10, and this continues until n becomes 0.\n",
    "\n",
    "The time complexity of this code is O(log(n)) in base 10. The while loop executes once for each digit in n, and each iteration involves a constant number of operations such as modulus and integer division. Thus, the time complexity grows logarithmically to the base 10 of the input integer n.\n",
    "\n",
    "Therefore, the function has a final time complexity of O(log(n))."
   ]
  },
  {
   "cell_type": "code",
   "execution_count": 4,
   "metadata": {
    "id": "aH4zzM1BRr03"
   },
   "outputs": [],
   "source": [
    "## Question 4\n",
    "\n",
    "# What is the following code doing and what is its time complexity ?\n",
    "\n",
    "def doSomething(n,m):\n",
    "  if m < 0:\n",
    "    return 0\n",
    "  elif m == 0:\n",
    "    return 1\n",
    "  else:\n",
    "    return n*doSomething(n, m-1)\n",
    "\n",
    "\n"
   ]
  },
  {
   "cell_type": "markdown",
   "metadata": {},
   "source": [
    "##### Solution:\n",
    "\n",
    "The code uses recursion to calculate the value of n raised to the power of m. The algorithm checks for two base cases where m is equal to zero or one, and then recursively calls the doSomething function with a decremented value of m until one of the base cases is reached.\n",
    "\n",
    "The time complexity of this code is O(m), as it requires m recursive function calls to compute the answer. Each recursive call takes O(1) time, performing a constant amount of work before calling doSomething again with a decremented value of m. Therefore, the total time complexity of this algorithm is directly proportional to m.\n",
    "\n",
    "Therefore, the final time complexity of the function doSomething is O(m)."
   ]
  }
 ],
 "metadata": {
  "colab": {
   "name": "DATA606_HW5.ipynb",
   "provenance": []
  },
  "kernelspec": {
   "display_name": "Python 3 (ipykernel)",
   "language": "python",
   "name": "python3"
  },
  "language_info": {
   "codemirror_mode": {
    "name": "ipython",
    "version": 3
   },
   "file_extension": ".py",
   "mimetype": "text/x-python",
   "name": "python",
   "nbconvert_exporter": "python",
   "pygments_lexer": "ipython3",
   "version": "3.8.2"
  }
 },
 "nbformat": 4,
 "nbformat_minor": 1
}
