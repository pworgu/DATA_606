{
 "cells": [
  {
   "cell_type": "markdown",
   "metadata": {},
   "source": [
    "### DATA 606 - HW4\n",
    "\n",
    "#### Name: Precious Worgu\n",
    "#### Student ID: 119343890"
   ]
  },
  {
   "cell_type": "markdown",
   "metadata": {
    "id": "ZEOKtuQB4YuL"
   },
   "source": [
    "### Homework 4\n",
    "Each questions has a grade of 2 points"
   ]
  },
  {
   "cell_type": "markdown",
   "metadata": {
    "id": "xmF7PeFH1l4Q"
   },
   "source": [
    "(1) A die D has four sides with the following probabilities :\n",
    "p(1) = p(2) = 1/8, p(3) = 1/4, p(4)= 1/2.\n",
    "What is the entropy of this distribution?\n",
    "\n",
    "(A) Calculate the entropy analytically usng the formula\n",
    "\n",
    "(B) Calculate the entropy using Python code"
   ]
  },
  {
   "cell_type": "markdown",
   "metadata": {},
   "source": [
    "##### Solution:\n",
    "\n",
    "A) The entropy of a die with four sides and the given probabilities can be calculated using the formula H(X) = -∑ p(x) log2(p(x)). For this die, this would be: H(X) = -(1/8 log2(1/8) + 1/8 log2(1/8) + 1/4 log2(1/4) + 1/2 log2(1/2)) = -(1/8 log2(1/8) + 1/8 log2(1/8) + 1/4 log2(1/4) + 1/2 log2(1/2)) = 1.75 bits."
   ]
  },
  {
   "cell_type": "markdown",
   "metadata": {},
   "source": [
    "B)"
   ]
  },
  {
   "cell_type": "code",
   "execution_count": 1,
   "metadata": {
    "id": "obWQGo7B0pmi"
   },
   "outputs": [
    {
     "name": "stdout",
     "output_type": "stream",
     "text": [
      "1.75\n"
     ]
    }
   ],
   "source": [
    "import math\n",
    "\n",
    "p1 = 1/8\n",
    "p2 = 1/8\n",
    "p3 = 1/4\n",
    "p4 = 1/2\n",
    "\n",
    "entropy = -(p1 * math.log2(p1) + p2 * math.log2(p2) + p3 * math.log2(p3) + p4 * math.log2(p4))\n",
    "\n",
    "print(entropy)"
   ]
  },
  {
   "cell_type": "markdown",
   "metadata": {
    "id": "09xThlnY3TKs"
   },
   "source": [
    "(2) Consider the die D of quesion (1):\n",
    "\n",
    "(A) Which probability distribution of the four sides will maximize the entropy, i.e., find the values of P(1), P(2), P(3), and P(4)? \n",
    "\n",
    "(B) What is the value of the maximum entropy?"
   ]
  },
  {
   "cell_type": "markdown",
   "metadata": {},
   "source": [
    "##### Solution:\n",
    "\n",
    "A) To maximize the entropy of the die D, you need to assign each side the same probability. This means that the maximum entropy will be achieved when all four sides have a probability of 1/4.\n",
    "i.e., p(1)= p(2)= p(3)= p(4)=1/4"
   ]
  },
  {
   "cell_type": "markdown",
   "metadata": {},
   "source": [
    "B)"
   ]
  },
  {
   "cell_type": "code",
   "execution_count": 2,
   "metadata": {
    "id": "qq2XzKMS3jEp"
   },
   "outputs": [
    {
     "name": "stdout",
     "output_type": "stream",
     "text": [
      "2.0\n"
     ]
    }
   ],
   "source": [
    "p1 = 1/8\n",
    "p2 = 1/8\n",
    "p3 = 1/4\n",
    "p4 = 1/2\n",
    "\n",
    "max_entropy = -(p1 * math.log2(1/4) + p2 * math.log2(1/4) + p3 * math.log2(1/4) + p4 * math.log2(1/4))\n",
    "\n",
    "print(max_entropy)"
   ]
  },
  {
   "cell_type": "markdown",
   "metadata": {
    "id": "r8LEvYQ57YXX"
   },
   "source": [
    "(3) A coin C1 has the probability distribution p(T) = p(H) = 1/2\n",
    "Another coin C2 has the probability distribution p(T) = 3/4, p(H) = 1/4\n",
    "What is the relative entropy (Kullback–Leibler divergence ) from C2 to C1?\n",
    "What is the relative entropy (Kullback–Leibler divergence ) from C1 to C2?"
   ]
  },
  {
   "cell_type": "markdown",
   "metadata": {},
   "source": [
    "##### Solution:"
   ]
  },
  {
   "cell_type": "code",
   "execution_count": 3,
   "metadata": {},
   "outputs": [
    {
     "name": "stdout",
     "output_type": "stream",
     "text": [
      "0.18872187554086714\n",
      "0.20751874963942185\n"
     ]
    }
   ],
   "source": [
    "from scipy.stats import entropy\n",
    "\n",
    "p1 = [0.5, 0.5]\n",
    "p2 = [0.75, 0.25]\n",
    "\n",
    "C2_C1 = entropy(p2, p1, base=2)\n",
    "print(C2_C1)\n",
    "\n",
    "C1_C2 = entropy(p1, p2, base=2)\n",
    "print(C1_C2)"
   ]
  },
  {
   "cell_type": "markdown",
   "metadata": {
    "id": "HJf09nu4glcz"
   },
   "source": [
    "(4) Suppose we have a source with 5 symbols. The corresponding probabilities are (0.3,0.3,0.2,0.1,0.1).\n",
    "\n",
    "(A) What is the best possible average bits per symbol if we want to compress the source?\n",
    "\n",
    "(B) Give a Huffman coding for the source symbols and calculate the average bits/symbol?"
   ]
  },
  {
   "cell_type": "markdown",
   "metadata": {},
   "source": [
    "##### Solution:"
   ]
  },
  {
   "cell_type": "markdown",
   "metadata": {},
   "source": [
    "A)"
   ]
  },
  {
   "cell_type": "code",
   "execution_count": 4,
   "metadata": {},
   "outputs": [
    {
     "data": {
      "text/plain": [
       "2.1709505944546685"
      ]
     },
     "execution_count": 4,
     "metadata": {},
     "output_type": "execute_result"
    }
   ],
   "source": [
    "p = [0.3,0.3,0.2,0.1,0.1]\n",
    "H = entropy(p, base=2)\n",
    "H"
   ]
  },
  {
   "cell_type": "markdown",
   "metadata": {},
   "source": [
    "B)"
   ]
  },
  {
   "cell_type": "code",
   "execution_count": 5,
   "metadata": {},
   "outputs": [
    {
     "name": "stdout",
     "output_type": "stream",
     "text": [
      "Huffman codes:  {'A': '10', 'B': '11', 'C': '00', 'D': '010', 'E': '011'}\n",
      "Average bits/symbol:  2.2\n"
     ]
    }
   ],
   "source": [
    "import heapq\n",
    "from collections import defaultdict\n",
    "from typing import List, Tuple\n",
    "\n",
    "def huffman_code(symbols: List[Tuple[str, float]]) -> Tuple[dict, float]:\n",
    "    \"\"\"Constructs a Huffman code from the given symbols and probabilities.\n",
    "    Returns a dictionary with the codes for each symbol, and the average bits/symbol.\"\"\"\n",
    "    heap = [[weight, [symbol, \"\"]] for symbol, weight in symbols]\n",
    "    heapq.heapify(heap)\n",
    "    while len(heap) > 1:\n",
    "        lo = heapq.heappop(heap)\n",
    "        hi = heapq.heappop(heap)\n",
    "        for pair in lo[1:]:\n",
    "            pair[1] = \"0\" + pair[1]\n",
    "        for pair in hi[1:]:\n",
    "            pair[1] = \"1\" + pair[1]\n",
    "        heapq.heappush(heap, [lo[0] + hi[0]] + lo[1:] + hi[1:])\n",
    "    codes = dict(sorted(heapq.heappop(heap)[1:], key=lambda p: (len(p[-1]), p)))\n",
    "    avg_bits = sum([symbols[i][1] * len(codes[symbols[i][0]]) for i in range(len(symbols))])\n",
    "    return codes, avg_bits\n",
    "\n",
    "symbols = [('A', 0.3), ('B', 0.3), ('C', 0.2), ('D', 0.1), ('E', 0.1)]\n",
    "codes, avg_bits = huffman_code(symbols)\n",
    "print(\"Huffman codes: \", codes)\n",
    "print(\"Average bits/symbol: \", avg_bits)\n"
   ]
  }
 ],
 "metadata": {
  "colab": {
   "name": "DATA606_Homework4.ipynb",
   "provenance": []
  },
  "kernelspec": {
   "display_name": "Python 3 (ipykernel)",
   "language": "python",
   "name": "python3"
  },
  "language_info": {
   "codemirror_mode": {
    "name": "ipython",
    "version": 3
   },
   "file_extension": ".py",
   "mimetype": "text/x-python",
   "name": "python",
   "nbconvert_exporter": "python",
   "pygments_lexer": "ipython3",
   "version": "3.8.2"
  }
 },
 "nbformat": 4,
 "nbformat_minor": 1
}
